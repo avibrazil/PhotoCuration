{
 "cells": [
  {
   "cell_type": "markdown",
   "metadata": {},
   "source": [
    "# Automatic iOS photo and video curation and archiving from its iTunes backup files\n",
    "\n",
    "## Asset types\n",
    "\n",
    "\n",
    "| Kind | Kind subtype | PLAYBACK STYLE | PLAYBACK VARIATION | UNIFORM TYPE IDENTIFIER    | Description              |\n",
    "|------|--------------|----------------|--------------------|----------------------------|--------------------------|\n",
    "| 0    | 0            | 1              | 0                  | public.jpeg or public.heic | Photo                    |\n",
    "| 0    | 0            | 1              | 0                  | public.jpeg or public.heic | Portrait                 |\n",
    "| 0    | 10           | 1              | 0                  | public.png                 | Screenshot               |\n",
    "| 0    | 2            | 3              | 0                  | public.jpeg or public.heic | Live Photo               |\n",
    "| 0    | 2            | 5              | 1                  | public.jpeg or public.heic | Live Photo loop          |\n",
    "| 0    | 2            | 5              | 2                  | public.jpeg or public.heic | Live Photo bounce        |\n",
    "| 0    | 2            | 3              | 3                  | public.jpeg or public.heic | Live Photo long exposure |\n",
    "| 1    | 0            | 4              | 0                  | com.apple.quicktime-movie  | Video                    |\n",
    "| 1    | 101          | 4              | 0                  | com.apple.quicktime-movie  | Slowmotion               |\n",
    "| 1    | 102          | 4              | 0                  | com.apple.quicktime-movie  | Timelapse                |\n",
    "| 1    | 103          | 4              | 0                  | public.mpeg-4              | Screen recording         |\n",
    "\n",
    "Following query on iOS 14’s `CameraRollDomain~Media/PhotoData/Photos.sqlite` will provide a good amount of data about assets:\n",
    "\n",
    "```sql\n",
    " select\n",
    "    ZASSET.Z_PK as Asset_PK,\n",
    "    ZASSET.ZDIRECTORY as dcim_folder,\n",
    "    ZASSET.ZFILENAME as file,\n",
    "    ZASSETDESCRIPTION.ZLONGDESCRIPTION as caption,\n",
    "    ZASSET.ZTRASHEDSTATE as trashed,\n",
    "    ZASSET.ZHASADJUSTMENTS as edited,                \n",
    "    case\n",
    "        when ZASSET.ZKIND=0 then case -- images\n",
    "            when ZASSET.ZKINDSUBTYPE=2 then '0>'||ZASSET.ZKINDSUBTYPE||'>'||ZASSET.ZPLAYBACKSTYLE||'>'||ZASSET.ZPLAYBACKVARIATION\n",
    "            when ZASSET.ZPLAYBACKSTYLE=2 then '0>'||ZASSET.ZKINDSUBTYPE||'>'||ZASSET.ZPLAYBACKSTYLE\n",
    "            else '0>'||ZASSET.ZKINDSUBTYPE\n",
    "        end\n",
    "        when ZASSET.ZKIND=1 then ZASSET.ZKIND||'>'||ZASSET.ZKINDSUBTYPE --videos\n",
    "    end as kind_encoded,\n",
    "    case \n",
    "        when ZASSET.ZKIND=0 then case -- images\n",
    "            when ZASSET.ZKINDSUBTYPE=0 then case\n",
    "                when ZASSET.ZPLAYBACKSTYLE=2 then 'animated GIF'\n",
    "                else 'image' -- check ZCREATORBUNDLEID if its a PNG\n",
    "            end\n",
    "            when ZASSET.ZKINDSUBTYPE=10 then 'screenshot' -- created by this device\n",
    "            when ZASSET.ZKINDSUBTYPE=2 then case -- live photos\n",
    "                when ZASSET.ZPLAYBACKSTYLE=3 then case\n",
    "                    when ZASSET.ZPLAYBACKVARIATION=0 then 'live photo'\n",
    "                    when ZASSET.ZPLAYBACKVARIATION=3 then 'long exposure from live photo'\n",
    "                end\n",
    "                when ZASSET.ZPLAYBACKSTYLE=5 then case\n",
    "                    when ZASSET.ZPLAYBACKVARIATION=1 then 'live photo, loop effect'\n",
    "                    when ZASSET.ZPLAYBACKVARIATION=2 then 'live photo, bounce effect'\n",
    "                end\n",
    "            end\n",
    "        end\n",
    "        when ZASSET.ZKIND=1 then case -- videos\n",
    "            when ZASSET.ZKINDSUBTYPE=0 then 'video'\n",
    "            when ZASSET.ZKINDSUBTYPE=101 then 'slow motion video'\n",
    "            when ZASSET.ZKINDSUBTYPE=102 then 'timelapse video'\n",
    "            when ZASSET.ZKINDSUBTYPE=103 then 'screencast'\n",
    "        end\n",
    "    end as kind_description,\n",
    "    ZASSET.ZFAVORITE as favorited,\n",
    "    ZASSET.ZWIDTH as width,\n",
    "    ZASSET.ZHEIGHT as height,\n",
    "    ZASSET.ZDURATION as video_duration,\n",
    "    ZASSET.ZUUID as uuid,\n",
    "    ZMOMENT.ZTITLE as moment_title,\n",
    "    ZMOMENT.ZSUBTITLE as moment_subtitle,\n",
    "    ZASSET.ZDATECREATED as creation_timestamp,\n",
    "    datetime(ZASSET.ZDATECREATED+strftime('%s','2001-01-01'),'unixepoch') as utc_time,\n",
    "    ZADDITIONALASSETATTRIBUTES.ZINFERREDTIMEZONEOFFSET as tz_offset,\n",
    "    datetime(ZASSET.ZDATECREATED+ZADDITIONALASSETATTRIBUTES.ZINFERREDTIMEZONEOFFSET+strftime('%s','2001-01-01'),'unixepoch') as asset_local_time,\n",
    "    ZADDITIONALASSETATTRIBUTES.ZEXIFTIMESTAMPSTRING as exif_timestamp,\n",
    "    ZADDITIONALASSETATTRIBUTES.ZREVERSELOCATIONDATA as location_data,\n",
    "    facecount.facecount,\n",
    "    named_facecount.named_facecount\n",
    "from\n",
    "    ZASSET\n",
    "\n",
    "    left outer join ZADDITIONALASSETATTRIBUTES\n",
    "        on ZADDITIONALASSETATTRIBUTES.ZASSET=ZASSET.Z_PK\n",
    "\n",
    "    left outer join ZASSETDESCRIPTION\n",
    "        on ZASSETDESCRIPTION.ZASSETATTRIBUTES=ZADDITIONALASSETATTRIBUTES.Z_PK\n",
    "\n",
    "    left outer join ZMOMENT\n",
    "        on ZMOMENT.Z_PK=ZASSET.ZMOMENT\n",
    "\n",
    "    left outer join (\n",
    "        select\n",
    "            ZASSET as asset,\n",
    "            count(ZCENTERX) as facecount\n",
    "        from ZDETECTEDFACE\n",
    "        group by ZASSET\n",
    "    ) as facecount\n",
    "        on facecount.asset=ZASSET.Z_PK\n",
    "\n",
    "    left outer join (\n",
    "        select\n",
    "            ZASSET as asset,\n",
    "            count(ZCENTERX) as named_facecount\n",
    "        from ZDETECTEDFACE, ZPERSON\n",
    "        where\n",
    "            ZDETECTEDFACE.ZPERSON=ZPERSON.Z_PK and\n",
    "            ZPERSON.ZDISPLAYNAME!=''\n",
    "        group by ZASSET\n",
    "    ) as named_facecount\n",
    "        on named_facecount.asset=ZASSET.Z_PK\n",
    "\n",
    "where\n",
    "    ZASSET.ZDIRECTORY like 'DCIM%'\n",
    "    \n",
    "order by ZASSET.ZDATECREATED desc\n",
    "```\n"
   ]
  },
  {
   "cell_type": "code",
   "execution_count": null,
   "metadata": {},
   "outputs": [],
   "source": [
    "import sys\n",
    "# sys.path.insert(0,\"..\") # Adds higher directory to python modules path.\n",
    "\n",
    "import pprint\n",
    "import logging\n",
    "import datetime\n",
    "import math\n",
    "from PhotoCuration import *\n",
    "\n",
    "# logging.basicConfig(level=logging.DEBUG)"
   ]
  },
  {
   "cell_type": "code",
   "execution_count": null,
   "metadata": {},
   "outputs": [],
   "source": [
    "engine=PhotoCuration(\n",
    "    start=datetime.datetime(2020,2,19,12,44),\n",
    "#     end=datetime.datetime(2020,10,27),\n",
    "    author='Avi Alkalay',\n",
    "#     originals=True,\n",
    "#     extractTypes=['0>0', '0>0>2', '0>10', '0>0>1>2'],\n",
    "#     extractTypes=['1>0', '1>101', '1>102', '1>103'],\n",
    "#     extractTypes=['1>101'],\n",
    "#     target='/media/sf_aviram/Notebooks/iOSbackup/playground/aa-uu-2'\n",
    "    target='aa-uu-2'\n",
    ")"
   ]
  },
  {
   "cell_type": "code",
   "execution_count": null,
   "metadata": {},
   "outputs": [],
   "source": [
    "%%time\n",
    "engine.fetchAssets()\n",
    "engine.fetchAlbums()\n",
    "engine.fetchMemories()\n",
    "engine.fetchPeople()\n",
    "engine.calcAssetsKeywords()\n",
    "engine.fetchPlacesMoments()\n",
    "engine.addAssetNameFromSmallestAlbum()\n",
    "engine.addAssetNameFromSmallestMemory()\n",
    "engine.calcBestLocationName()\n",
    "engine.calcBestAssetCaption()"
   ]
  },
  {
   "cell_type": "code",
   "execution_count": null,
   "metadata": {},
   "outputs": [],
   "source": [
    "# %%time\n",
    "engine.extractAndTag()"
   ]
  },
  {
   "cell_type": "code",
   "execution_count": null,
   "metadata": {},
   "outputs": [],
   "source": [
    "engine.report()"
   ]
  },
  {
   "cell_type": "code",
   "execution_count": null,
   "metadata": {},
   "outputs": [],
   "source": []
  },
  {
   "cell_type": "code",
   "execution_count": null,
   "metadata": {},
   "outputs": [],
   "source": []
  },
  {
   "cell_type": "code",
   "execution_count": null,
   "metadata": {},
   "outputs": [],
   "source": []
  },
  {
   "cell_type": "code",
   "execution_count": null,
   "metadata": {},
   "outputs": [],
   "source": [
    "engine.assets.columns"
   ]
  },
  {
   "cell_type": "code",
   "execution_count": null,
   "metadata": {},
   "outputs": [],
   "source": []
  },
  {
   "cell_type": "code",
   "execution_count": null,
   "metadata": {},
   "outputs": [],
   "source": []
  },
  {
   "cell_type": "code",
   "execution_count": null,
   "metadata": {},
   "outputs": [],
   "source": []
  },
  {
   "cell_type": "code",
   "execution_count": null,
   "metadata": {},
   "outputs": [],
   "source": []
  },
  {
   "cell_type": "code",
   "execution_count": null,
   "metadata": {},
   "outputs": [],
   "source": []
  },
  {
   "cell_type": "code",
   "execution_count": null,
   "metadata": {},
   "outputs": [],
   "source": []
  },
  {
   "cell_type": "code",
   "execution_count": null,
   "metadata": {},
   "outputs": [],
   "source": []
  },
  {
   "cell_type": "code",
   "execution_count": null,
   "metadata": {},
   "outputs": [],
   "source": [
    "engine.assetCurrent['spawn']['main']['tags']['collision_index']"
   ]
  },
  {
   "cell_type": "code",
   "execution_count": null,
   "metadata": {},
   "outputs": [],
   "source": [
    "engine.assets[engine.assets['file']=='IMG_8654.MOV']"
   ]
  },
  {
   "cell_type": "code",
   "execution_count": null,
   "metadata": {},
   "outputs": [],
   "source": [
    "del engine"
   ]
  },
  {
   "cell_type": "code",
   "execution_count": null,
   "metadata": {},
   "outputs": [],
   "source": [
    "import pathlib\n",
    "p=str(pathlib.PurePath('a','b'))\n",
    "p"
   ]
  },
  {
   "cell_type": "code",
   "execution_count": null,
   "metadata": {},
   "outputs": [],
   "source": [
    "x={'a':1, 'b':2}"
   ]
  },
  {
   "cell_type": "code",
   "execution_count": null,
   "metadata": {},
   "outputs": [],
   "source": [
    "engine.assets.columns"
   ]
  },
  {
   "cell_type": "code",
   "execution_count": null,
   "metadata": {},
   "outputs": [],
   "source": [
    "engine.assets.info() #['asset_local_time'].info()"
   ]
  },
  {
   "cell_type": "code",
   "execution_count": null,
   "metadata": {},
   "outputs": [],
   "source": [
    "aaa=engine.assets[['dcim_folder', 'file','kind', 'favorited','width', 'height', 'video_duration','uuid','location_suggested_name','location_name', 'location_context', 'location_street',\n",
    "       'location_subLocality', 'location_city', 'location_adminArea',\n",
    "       'location_state', 'location_country', 'location_postalCode',\n",
    "       'location_countryCode', 'location_formattedAddress']].copy()"
   ]
  },
  {
   "cell_type": "code",
   "execution_count": null,
   "metadata": {},
   "outputs": [],
   "source": [
    "aaa['suggested_caption']=engine.assets['infered_asset_caption']\n",
    "aaa['suggested_caption_score']=engine.assets['infered_asset_caption_score']"
   ]
  },
  {
   "cell_type": "code",
   "execution_count": null,
   "metadata": {},
   "outputs": [],
   "source": [
    "items=[\n",
    "    ('%Y.%m.%d-%H.%M.%S', 'time_fs'),\n",
    "    ('Y', 'year'),\n",
    "    ('m', 'month'),\n",
    "    ('d', 'day'),\n",
    "    ('H', 'hour'),\n",
    "    ('M', 'minute'),\n",
    "    ('S', 'second'),\n",
    "    ('y', 'year_small'),\n",
    "    ('I', 'hour12'),\n",
    "    ('p', 'ampm'),\n",
    "    ('b', 'month_name_abrev'),\n",
    "    ('B', 'month_name'),\n",
    "    ('a', 'weekday_abrev'),\n",
    "    ('A', 'weekday'),\n",
    "    ('c', 'locale_time')\n",
    "]\n",
    "\n",
    "dd=pd.DataFrame()\n",
    "prefix='creation_local'\n",
    "\n",
    "for i in items:\n",
    "    if '%' in i[0]:\n",
    "        format=i[0]\n",
    "    else:\n",
    "        format=f'%{i[0]}'\n",
    "    dd[f'{prefix}_{i[1]}']=engine.assets.asset_local_time.dt.strftime(format)"
   ]
  },
  {
   "cell_type": "code",
   "execution_count": null,
   "metadata": {},
   "outputs": [],
   "source": [
    "dd=['dcim_folder', 'file','kind', 'favorited','width', 'height', 'video_duration','uuid','location_suggested_name','location_name', 'location_context', 'location_street',\n",
    "       'location_subLocality', 'location_city', 'location_adminArea',\n",
    "       'location_state', 'location_country', 'location_postalCode',\n",
    "       'location_countryCode', 'location_formattedAddress']"
   ]
  },
  {
   "cell_type": "code",
   "execution_count": null,
   "metadata": {},
   "outputs": [],
   "source": [
    "dd"
   ]
  },
  {
   "cell_type": "code",
   "execution_count": null,
   "metadata": {},
   "outputs": [],
   "source": [
    "engine.assets.columns"
   ]
  },
  {
   "cell_type": "code",
   "execution_count": null,
   "metadata": {},
   "outputs": [],
   "source": [
    "items"
   ]
  },
  {
   "cell_type": "code",
   "execution_count": null,
   "metadata": {},
   "outputs": [],
   "source": [
    "aaa"
   ]
  },
  {
   "cell_type": "code",
   "execution_count": null,
   "metadata": {},
   "outputs": [],
   "source": [
    "engine.extractAndTag()"
   ]
  },
  {
   "cell_type": "code",
   "execution_count": null,
   "metadata": {},
   "outputs": [],
   "source": []
  },
  {
   "cell_type": "code",
   "execution_count": null,
   "metadata": {},
   "outputs": [],
   "source": [
    "engine.assets[engine.assets['trashed']==0].sort_values(by='utc_time').columns"
   ]
  },
  {
   "cell_type": "code",
   "execution_count": null,
   "metadata": {},
   "outputs": [],
   "source": [
    "engine.assets[['utc_time','asset_local_time']].info()"
   ]
  },
  {
   "cell_type": "code",
   "execution_count": null,
   "metadata": {},
   "outputs": [],
   "source": [
    "pd.set_option('display.max_rows', None)\n",
    "engine.report()\n",
    "# engine.assets[engine.assets['infered_asset_caption_score']<0.5][['utc_time','tz_offset','asset_local_time','kind','video_duration','infered_asset_caption','location_suggested_name']]\n",
    "# engine.assets[['trashed','infered_asset_caption','infered_asset_caption_score','location_suggested_name','memory_title','album_title','caption']].drop_duplicates()"
   ]
  },
  {
   "cell_type": "code",
   "execution_count": null,
   "metadata": {},
   "outputs": [],
   "source": [
    "engine.locations.location_name.value_counts()"
   ]
  },
  {
   "cell_type": "code",
   "execution_count": null,
   "metadata": {},
   "outputs": [],
   "source": [
    "engine.assets[True]"
   ]
  },
  {
   "cell_type": "code",
   "execution_count": null,
   "metadata": {},
   "outputs": [],
   "source": [
    "import jinja2"
   ]
  },
  {
   "cell_type": "code",
   "execution_count": null,
   "metadata": {},
   "outputs": [],
   "source": [
    "template=\"\"\"\n",
    "{{localtime}} {% if caption -%}\n",
    "{% if video -%}\n",
    "▶️ {# -#}\n",
    "{% else -%}\n",
    "{% if favorited -%}\n",
    "★ {# -#}\n",
    "{% else -%}\n",
    "• {#+ -#}\n",
    "{% endif -%}\n",
    "{% endif -%}\n",
    "{{ caption }} {# -#}\n",
    "{% endif -%}\n",
    "{% if author or device -%}\n",
    "【{{author}}{# -#}\n",
    "{% if author and device %}·︎{% endif -%}\n",
    "{{device}}】{# -#}\n",
    "{% endif -%}\n",
    ".{{ext}}\n",
    "\"\"\""
   ]
  },
  {
   "cell_type": "code",
   "execution_count": null,
   "metadata": {},
   "outputs": [],
   "source": []
  },
  {
   "cell_type": "code",
   "execution_count": null,
   "metadata": {},
   "outputs": [],
   "source": []
  },
  {
   "cell_type": "code",
   "execution_count": null,
   "metadata": {},
   "outputs": [],
   "source": []
  },
  {
   "cell_type": "code",
   "execution_count": null,
   "metadata": {},
   "outputs": [],
   "source": [
    "l=list(engine.assets['Moment_Title'].value_counts().index)\n",
    "l.sort()\n",
    "l"
   ]
  },
  {
   "cell_type": "code",
   "execution_count": null,
   "metadata": {},
   "outputs": [],
   "source": [
    "l=list(engine.locations['location_name'].value_counts().index)\n",
    "l.sort()\n",
    "l"
   ]
  },
  {
   "cell_type": "code",
   "execution_count": null,
   "metadata": {},
   "outputs": [],
   "source": [
    "engine.locations[engine.locations['location_name'] == 'Ale’s home']"
   ]
  },
  {
   "cell_type": "code",
   "execution_count": null,
   "metadata": {},
   "outputs": [],
   "source": [
    "engine.assets.columns"
   ]
  },
  {
   "cell_type": "code",
   "execution_count": null,
   "metadata": {},
   "outputs": [],
   "source": [
    "engine.assetsOfMemories.join(engine.assetsOfMemories['memory'].value_counts(), on='memory', rsuffix='memory_asset_count')"
   ]
  },
  {
   "cell_type": "code",
   "execution_count": null,
   "metadata": {},
   "outputs": [],
   "source": [
    "engine.memories"
   ]
  },
  {
   "cell_type": "code",
   "execution_count": null,
   "metadata": {},
   "outputs": [],
   "source": [
    "engine.assetsOfMemories.set_index('memory').join(engine.memories)[['memory_uuid','memory_title','assetUUID']]#.sort_values('album_asset_count').groupby('assetUUID').head(1).set_index('assetUUID')\n"
   ]
  },
  {
   "cell_type": "code",
   "execution_count": null,
   "metadata": {},
   "outputs": [],
   "source": [
    "engine.assets"
   ]
  },
  {
   "cell_type": "code",
   "execution_count": null,
   "metadata": {},
   "outputs": [],
   "source": [
    "engine.assets[['dcim_folder','file','favorited','uuid','Moment_Title','album_title']]#['album_title'].value_counts()"
   ]
  },
  {
   "cell_type": "code",
   "execution_count": null,
   "metadata": {},
   "outputs": [],
   "source": [
    "engine.assetsOfAlbums.set_index('album').join(engine.albums)[['album_uuid','album_title','album_asset_count','assetUUID']].sort_values('album_asset_count').groupby('assetUUID').head(1).set_index('assetUUID')\n"
   ]
  },
  {
   "cell_type": "code",
   "execution_count": null,
   "metadata": {},
   "outputs": [],
   "source": [
    "engine.assetsOfAlbums"
   ]
  },
  {
   "cell_type": "code",
   "execution_count": null,
   "metadata": {},
   "outputs": [],
   "source": [
    "rel=engine.assetsOfAlbums.set_index('album').join(engine.albums)[['album_uuid','album_title','album_asset_count','assetUUID']]\n",
    "rel.groupby('assetUUID')['album_asset_count']"
   ]
  },
  {
   "cell_type": "code",
   "execution_count": null,
   "metadata": {},
   "outputs": [],
   "source": [
    "rel.sort_values('album_asset_count').groupby('assetUUID').head(1)"
   ]
  },
  {
   "cell_type": "code",
   "execution_count": null,
   "metadata": {},
   "outputs": [],
   "source": [
    "engine.assetsOfAlbums.set_index('album').join(engine.albums)[['album_uuid','album_title','album_asset_count','assetUUID']].sort_values('album_asset_count').groupby('assetUUID').head(1)"
   ]
  },
  {
   "cell_type": "code",
   "execution_count": null,
   "metadata": {},
   "outputs": [],
   "source": [
    "engine.assets"
   ]
  },
  {
   "cell_type": "code",
   "execution_count": null,
   "metadata": {},
   "outputs": [],
   "source": [
    "Index(['albumUUID', 'albumTrashed', 'assetUUID', 'album_uuid', 'album_title',\n",
    "       'album_public_url', 'album_asset_count', 'album_photo_count',\n",
    "       'album_video_count', 'album_cloud_deleted_state',\n",
    "       'album_cloud_local_state', 'album_custom_sort_ascending',\n",
    "       'album_custom_sort_key', 'ZKIND', 'ZPENDINGITEMSCOUNT',\n",
    "       'ZPENDINGITEMSTYPE', 'ZSYNCEVENTORDERKEY', 'album_is_trashed',\n",
    "       'ZCUSTOMKEYASSET', 'ZKEYASSET', 'ZSECONDARYKEYASSET',\n",
    "       'ZTERTIARYKEYASSET', 'ZCLOUDALBUMSUBTYPE',\n",
    "       'ZCLOUDMULTIPLECONTRIBUTORSENABLED',\n",
    "       'ZCLOUDMULTIPLECONTRIBUTORSENABLEDLOCAL', 'ZCLOUDNOTIFICATIONSENABLED',\n",
    "       'ZCLOUDOWNEREMAILKEY', 'ZCLOUDOWNERISWHITELISTED',\n",
    "       'ZCLOUDPUBLICURLENABLED', 'ZCLOUDPUBLICURLENABLEDLOCAL',\n",
    "       'ZCLOUDRELATIONSHIPSTATE', 'ZCLOUDRELATIONSHIPSTATELOCAL',\n",
    "       'ZHASUNSEENCONTENT', 'ZISOWNED', 'ZUNSEENASSETSCOUNT',\n",
    "       'ZKEYASSETFACEIDENTIFIER', 'ZKEYASSETFACETHUMBNAILINDEX',\n",
    "       'album_parent_folder', 'album_parent_folder_pk', 'album_utc_creation',\n",
    "       'album_utc_start', 'album_utc_end', 'ZTRASHEDDATE',\n",
    "       'ZCLOUDCREATIONDATE', 'ZCLOUDLASTCONTRIBUTIONDATE',\n",
    "       'ZCLOUDLASTINTERESTINGCHANGEDATE', 'ZCLOUDSUBSCRIPTIONDATE',\n",
    "       'ZCLOUDGUID', 'ZIMPORTSESSIONID', 'ZCLOUDOWNERFIRSTNAME',\n",
    "       'ZCLOUDOWNERFULLNAME', 'ZCLOUDOWNERHASHEDPERSONID',\n",
    "       'ZCLOUDOWNERLASTNAME', 'ZCLOUDPERSONID', 'ZPROJECTDOCUMENTTYPE',\n",
    "       'ZPROJECTEXTENSIONIDENTIFIER', 'ZPROJECTRENDERUUID',\n",
    "       'ZCUSTOMQUERYTYPE'],\n",
    "      dtype='object')"
   ]
  },
  {
   "cell_type": "code",
   "execution_count": null,
   "metadata": {},
   "outputs": [],
   "source": [
    "engine.assetsOfAlbums.groupby(by=['assetUUID'])"
   ]
  },
  {
   "cell_type": "code",
   "execution_count": null,
   "metadata": {},
   "outputs": [],
   "source": [
    "a=list(engine.assets2.columns)\n",
    "a.sort()\n",
    "a"
   ]
  },
  {
   "cell_type": "code",
   "execution_count": null,
   "metadata": {},
   "outputs": [],
   "source": [
    "import numpy as np\n",
    "\n",
    "engine.assets2[[\n",
    "    'location_name',\n",
    " 'location_context',\n",
    " 'location_street',\n",
    " 'location_subLocality',\n",
    " 'location_city',\n",
    "'location_adminArea',\n",
    " 'location_state',\n",
    " 'location_country',\n",
    " 'location_postalCode',\n",
    " 'location_countryCode',\n",
    " 'location_formattedAddress',\n",
    "]]"
   ]
  },
  {
   "cell_type": "code",
   "execution_count": null,
   "metadata": {},
   "outputs": [],
   "source": [
    "engine.assets2.loc[0]['location_postalCode']"
   ]
  },
  {
   "cell_type": "code",
   "execution_count": null,
   "metadata": {},
   "outputs": [],
   "source": [
    "engine.memories.iloc[12]"
   ]
  },
  {
   "cell_type": "code",
   "execution_count": null,
   "metadata": {},
   "outputs": [],
   "source": [
    "import biplist\n",
    "\n",
    "phdata=biplist.readPlistFromString(engine.memories.iloc[12]['ZMOVIEASSETSTATE'])"
   ]
  },
  {
   "cell_type": "code",
   "execution_count": null,
   "metadata": {},
   "outputs": [],
   "source": [
    "phdata"
   ]
  },
  {
   "cell_type": "code",
   "execution_count": null,
   "metadata": {},
   "outputs": [],
   "source": [
    "import biplist"
   ]
  },
  {
   "cell_type": "code",
   "execution_count": null,
   "metadata": {},
   "outputs": [],
   "source": [
    "f='/Users/avi/Notebooks/iOSbackup/playground/aa-uu/CameraRollDomain/Media/PhotoData/moments/ZADDITIONALASSETATTRIBUTES-17356.plist'\n",
    "data=biplist.readPlist(f)"
   ]
  },
  {
   "cell_type": "code",
   "execution_count": null,
   "metadata": {},
   "outputs": [],
   "source": [
    "mapItem_index=data['$objects'][data['$top']['root'].integer]['mapItem'].integer\n",
    "\n",
    "sortedPlaceInfos_index=data['$objects'][mapItem_index]['sortedPlaceInfos'].integer\n",
    "\n",
    "place_index=data['$objects'][sortedPlaceInfos_index]['NS.objects'][0].integer\n",
    "\n",
    "placeName_index=data['$objects'][place_index]['name'].integer\n",
    "\n",
    "data['$objects'][placeName_index]"
   ]
  },
  {
   "cell_type": "code",
   "execution_count": null,
   "metadata": {},
   "outputs": [],
   "source": [
    "place=[]\n",
    "\n",
    "for l in data['$objects'][sortedPlaceInfos_index]['NS.objects']:\n",
    "    placeName_index=data['$objects'][l.integer]['name'].integer\n",
    "    place.append(data['$objects'][placeName_index])\n",
    "    \n",
    "places=set()\n",
    "places_add=places.add\n",
    "a=[x for x in place if not (x in places or places_add(x))]"
   ]
  },
  {
   "cell_type": "code",
   "execution_count": null,
   "metadata": {},
   "outputs": [],
   "source": [
    "' < '.join(a)"
   ]
  },
  {
   "cell_type": "code",
   "execution_count": null,
   "metadata": {},
   "outputs": [],
   "source": []
  },
  {
   "cell_type": "code",
   "execution_count": null,
   "metadata": {},
   "outputs": [],
   "source": [
    "data"
   ]
  },
  {
   "cell_type": "code",
   "execution_count": null,
   "metadata": {},
   "outputs": [],
   "source": [
    "data['$objects'][1]['mapItem']['CF$UID']"
   ]
  },
  {
   "cell_type": "code",
   "execution_count": null,
   "metadata": {},
   "outputs": [],
   "source": [
    "data"
   ]
  },
  {
   "cell_type": "code",
   "execution_count": null,
   "metadata": {},
   "outputs": [],
   "source": [
    "import sys\n",
    "sys.path.insert(0,\"/Users/avi/src/ccl-bplist\") # Adds higher directory to python modules path.\n",
    "\n",
    "import ccl_bplist\n",
    "\n",
    "ccl_bplist.set_object_converter(ccl_bplist.NSKeyedArchiver_common_objects_convertor)"
   ]
  },
  {
   "cell_type": "code",
   "execution_count": null,
   "metadata": {},
   "outputs": [],
   "source": [
    "f='/Users/avi/Notebooks/iOSbackup/playground/aa-uu/CameraRollDomain/Media/PhotoData/moments/ZADDITIONALASSETATTRIBUTES-17356.plist'\n",
    "d=ccl_bplist.deserialise_NsKeyedArchiver(ccl_bplist.load(open(f,\"rb\")))"
   ]
  },
  {
   "cell_type": "code",
   "execution_count": null,
   "metadata": {},
   "outputs": [],
   "source": [
    "d #['mapItem']['sortedPlaceInfos'][0]['name']"
   ]
  },
  {
   "cell_type": "code",
   "execution_count": null,
   "metadata": {},
   "outputs": [],
   "source": [
    "Z_PK,\n",
    "Z_ENT,\n",
    "Z_OPT,\n",
    "ZALLOWEDFORANALYSIS,\n",
    "ZCAMERACAPTUREDEVICE,\n",
    "ZCLOUDAVALANCHEPICKTYPE,\n",
    "ZCLOUDKINDSUBTYPE,\n",
    "ZCLOUDRECOVERYSTATE,\n",
    "ZCLOUDSTATERECOVERYATTEMPTSCOUNT,\n",
    "ZDEFERREDPROCESSINGCANDIDATEOPTIONS,\n",
    "ZDESTINATIONASSETCOPYSTATE,\n",
    "ZEMBEDDEDTHUMBNAILHEIGHT,\n",
    "ZEMBEDDEDTHUMBNAILLENGTH,\n",
    "ZEMBEDDEDTHUMBNAILOFFSET,\n",
    "ZEMBEDDEDTHUMBNAILWIDTH,\n",
    "ZIMPORTEDBY,\n",
    "ZINFERREDTIMEZONEOFFSET,\n",
    "ZLOCATIONHASH,\n",
    "ZORIGINALFILESIZE,\n",
    "ZORIGINALHEIGHT,\n",
    "ZORIGINALORIENTATION,\n",
    "ZORIGINALRESOURCECHOICE,\n",
    "ZORIGINALWIDTH,\n",
    "ZPENDINGPLAYCOUNT,\n",
    "ZPENDINGSHARECOUNT,\n",
    "ZPENDINGVIEWCOUNT,\n",
    "ZPLAYCOUNT,\n",
    "ZPTPTRASHEDSTATE,\n",
    "ZREVERSELOCATIONDATAISVALID,\n",
    "ZSCENEANALYSISVERSION,\n",
    "ZSHARECOUNT,\n",
    "ZSHARETYPE,\n",
    "ZSHIFTEDLOCATIONISVALID,\n",
    "ZTIMEZONEOFFSET,\n",
    "ZUPLOADATTEMPTS,\n",
    "ZVARIATIONSUGGESTIONSTATES,\n",
    "ZVIDEOCPDISPLAYTIMESCALE,\n",
    "ZVIDEOCPDISPLAYVALUE,\n",
    "ZVIDEOCPDURATIONTIMESCALE,\n",
    "ZVIEWCOUNT,\n",
    "ZASSET,\n",
    "ZASSETDESCRIPTION,\n",
    "ZEDITEDIPTCATTRIBUTES,\n",
    "ZMEDIAMETADATA,\n",
    "ZSCENEPRINT,\n",
    "ZUNMANAGEDADJUSTMENT,\n",
    "ZALTERNATEIMPORTIMAGEDATE,\n",
    "ZGPSHORIZONTALACCURACY,\n",
    "ZLASTUPLOADATTEMPTDATE,\n",
    "ZSCENEANALYSISTIMESTAMP,\n",
    "ZACCESSIBILITYDESCRIPTION,\n",
    "ZADJUSTEDFINGERPRINT,\n",
    "ZCREATORBUNDLEID,\n",
    "ZDEFERREDPHOTOIDENTIFIER,\n",
    "ZEDITORBUNDLEID,\n",
    "ZEXIFTIMESTAMPSTRING,\n",
    "ZIMPORTSESSIONID,\n",
    "ZMASTERFINGERPRINT,\n",
    "ZMEDIAMETADATATYPE,\n",
    "ZMONTAGE,\n",
    "ZORIGINALASSETSUUID,\n",
    "ZORIGINALFILENAME,\n",
    "ZORIGINATINGASSETIDENTIFIER,\n",
    "ZPHOTOSTREAMTAGID,\n",
    "ZPUBLICGLOBALUUID,\n",
    "ZSHAREORIGINATOR,\n",
    "ZSNOWDAYSNOWPLOWIDENTIFIER,\n",
    "ZSPATIALOVERCAPTUREGROUPIDENTIFIER,\n",
    "ZTIMEZONENAME,\n",
    "ZTITLE,\n",
    "ZDISTANCEIDENTITY,\n",
    "ZFACEREGIONS,\n",
    "ZOBJECTSALIENCYRECTSDATA,\n",
    "ZORIGINALHASH,\n",
    "ZPLACEANNOTATIONDATA,\n",
    "ZREVERSELOCATIONDATA,\n",
    "ZSHIFTEDLOCATIONDATA"
   ]
  },
  {
   "cell_type": "code",
   "execution_count": null,
   "metadata": {},
   "outputs": [],
   "source": [
    "engine.assetsOfMemories"
   ]
  },
  {
   "cell_type": "code",
   "execution_count": null,
   "metadata": {},
   "outputs": [],
   "source": [
    "import uuid"
   ]
  },
  {
   "cell_type": "code",
   "execution_count": null,
   "metadata": {},
   "outputs": [],
   "source": [
    "x=uuid.UUID('7aec8921-5353-4c8d-bc8d-a92da5258e0c')"
   ]
  },
  {
   "cell_type": "code",
   "execution_count": null,
   "metadata": {},
   "outputs": [],
   "source": [
    "str(x).upper()"
   ]
  },
  {
   "cell_type": "code",
   "execution_count": null,
   "metadata": {},
   "outputs": [],
   "source": [
    "engine.albums.info()"
   ]
  },
  {
   "cell_type": "code",
   "execution_count": null,
   "metadata": {},
   "outputs": [],
   "source": [
    "data['$objects'][data['$top']['assetUUIDs'].integer]"
   ]
  },
  {
   "cell_type": "code",
   "execution_count": null,
   "metadata": {},
   "outputs": [],
   "source": [
    "import plistlib\n",
    "import biplist"
   ]
  },
  {
   "cell_type": "code",
   "execution_count": null,
   "metadata": {},
   "outputs": [],
   "source": [
    "data=b'bplist00\\xd4\\x01\\x02\\x03\\x04\\x05\\x06\\x07\\x1cX$versionY$archiverT$topX$objects\\x12\\x00\\x01\\x86\\xa0_\\x10\\x0fNSKeyedArchiver\\xda\\x08\\t\\n\\x0b\\x0c\\r\\x0e\\x0f\\x10\\x11\\x12\\x12\\x14\\x15\\x16\\x17\\x12\\x19\\x12\\x1b[isPrototype]customSortKey_\\x10\\x13customSortAscendingZassetUUIDsUtitleTuuidXisPinnedTkindYisInTrashWversion\\x80\\x04\\x80\\x04\\x80\\x05\\x80\\x06\\x80\\x01\\x80\\x03\\x80\\x04\\x80\\x02\\x80\\x04\\x10\\x01\\xa7\\x1d\\x1e\\x1f !\"#U$nullYInstagram\\x10\\x02_\\x10$12D64593-9CD0-45AD-AFB1-D1F29FB27240\\x10\\x00\\x10\\x01O\\x10\\xe0z\\xec\\x89!SSL\\x8d\\xbc\\x8d\\xa9-\\xa5%\\x8e\\x0c\\xfe\\xdar\\x17\\xcdWHZ\\x90\\xe5\\x95+euq\\x15\\x02\\x1eR\\x9b\\t\\x9fK\\xd5\\x94\\xfc\\xbd\\n\\xde\\xae\\xb4\\xadP\\x11>>\\x16\\xd3I;\\x89\\x94P\\x0b\\x8b\\xe0Ek]+\\xb9\\xb8\\x882@e\\xbd\\xf0\\xe3\\x18\\xc1\\x88(qI\\xb4\\x19\\xc0\\xf9uE\\xea\\xa0(Nm\\x97Y\\x9b\\x8f\\x1d\\xfd\\x9eBM\\xcaH\\x9e\\xa3\\xbe\\xb1\\xa3A\\xa28S\\xe0bk\\xc6\\x02\\x18Gi\\xa1\\xb5#/\\xe2d\\xc5+H\\x07\\xae\\xff6BI(\\xa9\\xb5\\xf1\\x8c\\xf7l\\xd8)\\xe6^\\xbe[\\xfb\\x0cD\\x03\\x97<\\x0e\\x91\\x8f\\xaa\\t\\xfc\\x0cY\\x96x\\xbf\\xb0K\\x9d\\x83\\x91\\xe9\\x86\\xeaq\\x1e1\\xd2\\xff\\x0f&\\x1c\\xcbH\\xa4\\x8eE\\xc5\\xdb\\xaa\\xa1:\\xa4N\\xd6\\xc6\\xf9\\xc8FA\\xe0\\x92;\\xe7\\x90\\x19~\\x1f\\xa4\\x8c\\x0b\\xc8D\\xa3fNm\\x8f\\x8f\\xe2n\\xb9\\xc5\\x19\\xf4\\x00\\x08\\x00\\x11\\x00\\x1a\\x00$\\x00)\\x002\\x007\\x00I\\x00^\\x00j\\x00x\\x00\\x8e\\x00\\x99\\x00\\x9f\\x00\\xa4\\x00\\xad\\x00\\xb2\\x00\\xbc\\x00\\xc4\\x00\\xc6\\x00\\xc8\\x00\\xca\\x00\\xcc\\x00\\xce\\x00\\xd0\\x00\\xd2\\x00\\xd4\\x00\\xd6\\x00\\xd8\\x00\\xe0\\x00\\xe6\\x00\\xf0\\x00\\xf2\\x01\\x19\\x01\\x1b\\x01\\x1d\\x00\\x00\\x00\\x00\\x00\\x00\\x02\\x01\\x00\\x00\\x00\\x00\\x00\\x00\\x00$\\x00\\x00\\x00\\x00\\x00\\x00\\x00\\x00\\x00\\x00\\x00\\x00\\x00\\x00\\x02\\x00'\n",
    "# a=plistlib.loads(data,fmt=plistlib.FMT_BINARY)\n",
    "\n",
    "a=biplist.readPlistFromString(data)"
   ]
  },
  {
   "cell_type": "code",
   "execution_count": null,
   "metadata": {},
   "outputs": [],
   "source": [
    "a"
   ]
  },
  {
   "cell_type": "code",
   "execution_count": null,
   "metadata": {},
   "outputs": [],
   "source": [
    "a['$top']['uuid'].integer"
   ]
  },
  {
   "cell_type": "code",
   "execution_count": null,
   "metadata": {},
   "outputs": [],
   "source": [
    "engine.getPhotoData()"
   ]
  },
  {
   "cell_type": "code",
   "execution_count": null,
   "metadata": {},
   "outputs": [],
   "source": [
    "engine.assets.info()"
   ]
  },
  {
   "cell_type": "code",
   "execution_count": null,
   "metadata": {},
   "outputs": [],
   "source": [
    "engine.assets"
   ]
  },
  {
   "cell_type": "code",
   "execution_count": null,
   "metadata": {},
   "outputs": [],
   "source": [
    "engine.faces.info()"
   ]
  },
  {
   "cell_type": "code",
   "execution_count": null,
   "metadata": {},
   "outputs": [],
   "source": [
    "engine.faces"
   ]
  },
  {
   "cell_type": "code",
   "execution_count": null,
   "metadata": {},
   "outputs": [],
   "source": [
    "engine.processPhotos()"
   ]
  },
  {
   "cell_type": "code",
   "execution_count": null,
   "metadata": {},
   "outputs": [],
   "source": [
    "del engine"
   ]
  },
  {
   "cell_type": "code",
   "execution_count": null,
   "metadata": {},
   "outputs": [],
   "source": [
    "engine.assets[engine.assets['favorited']!=0]"
   ]
  },
  {
   "cell_type": "code",
   "execution_count": null,
   "metadata": {},
   "outputs": [],
   "source": [
    "engine.iosDBs"
   ]
  },
  {
   "cell_type": "code",
   "execution_count": null,
   "metadata": {},
   "outputs": [],
   "source": []
  },
  {
   "cell_type": "code",
   "execution_count": null,
   "metadata": {},
   "outputs": [],
   "source": []
  },
  {
   "cell_type": "code",
   "execution_count": null,
   "metadata": {},
   "outputs": [],
   "source": []
  },
  {
   "cell_type": "code",
   "execution_count": null,
   "metadata": {},
   "outputs": [],
   "source": []
  },
  {
   "cell_type": "code",
   "execution_count": null,
   "metadata": {},
   "outputs": [],
   "source": []
  },
  {
   "cell_type": "code",
   "execution_count": null,
   "metadata": {},
   "outputs": [],
   "source": []
  },
  {
   "cell_type": "code",
   "execution_count": null,
   "metadata": {},
   "outputs": [],
   "source": []
  },
  {
   "cell_type": "code",
   "execution_count": null,
   "metadata": {},
   "outputs": [],
   "source": [
    "engine.sync()"
   ]
  },
  {
   "cell_type": "code",
   "execution_count": null,
   "metadata": {},
   "outputs": [],
   "source": [
    "del engine"
   ]
  },
  {
   "cell_type": "markdown",
   "metadata": {},
   "source": [
    "## All data about photos\n",
    "\n",
    "```sql\n",
    "select\n",
    "    ZGENERICASSET.Z_PK as Asset_PK,\n",
    "    ZGENERICASSET.ZDIRECTORY,\n",
    "    ZGENERICASSET.ZFILENAME,\n",
    "    ZGENERICASSET.ZTRASHEDSTATE,\n",
    "    ZGENERICASSET.ZFAVORITE,\n",
    "    ZGENERICASSET.ZWIDTH,\n",
    "    ZGENERICASSET.ZHEIGHT,\n",
    "    ZMOMENT.ZTITLE as Moment_Title,\n",
    "    ZMOMENT.ZSUBTITLE as Moment_Subtitle,\n",
    "    datetime(ZGENERICASSET.ZDATECREATED+strftime('%s','2001-01-01','utc'),'unixepoch') as taken,\n",
    "    ZADDITIONALASSETATTRIBUTES.ZTIMEZONEOFFSET,\n",
    "    ZADDITIONALASSETATTRIBUTES.ZEXIFTIMESTAMPSTRING,\n",
    "    facecount.facecount,\n",
    "    named_facecount.named_facecount,\n",
    "    people.Detected_PK,\n",
    "    people.Person_PK,\n",
    "    people.short_name,\n",
    "    people.full_name,\n",
    "    people.adjustment_ver,\n",
    "    people.width,\n",
    "    people.height,\n",
    "    people.LEFTEYE_pixx,\n",
    "    people.LEFTEYE_pixy,\n",
    "    people.RIGHTEYE_pixx,\n",
    "    people.RIGHTEYE_pixy,\n",
    "    people.MOUTH_pixx,\n",
    "    people.MOUTH_pixy,\n",
    "    people.CENTER_pixx,\n",
    "    people.CENTER_pixy,\n",
    "    people.face_size,\n",
    "    people.person_uri,\n",
    "    people.person_uuid\n",
    "from\n",
    "    ZGENERICASSET\n",
    "    \n",
    "    left outer join ZADDITIONALASSETATTRIBUTES\n",
    "        on ZADDITIONALASSETATTRIBUTES.ZASSET=ZGENERICASSET.Z_PK\n",
    "        \n",
    "    left outer join ZMOMENT\n",
    "        on ZMOMENT.Z_PK= ZGENERICASSET.ZMOMENT\n",
    "        \n",
    "    left outer join (\n",
    "        select \n",
    "            ZDETECTEDFACE.Z_PK as Detected_PK,\n",
    "            ZPERSON.Z_PK as Person_PK,\n",
    "            ZPERSON.ZDISPLAYNAME as short_name,\n",
    "            ZPERSON.ZFULLNAME as full_name,\n",
    "            ZDETECTEDFACE.ZADJUSTMENTVERSION as adjustment_ver,\n",
    "            ZDETECTEDFACE.ZSOURCEWIDTH as width,\n",
    "            ZDETECTEDFACE.ZSOURCEHEIGHT as height,\n",
    "            cast(round(ZDETECTEDFACE.ZLEFTEYEX * ZDETECTEDFACE.ZSOURCEWIDTH,0) as integer) LEFTEYE_pixx,\n",
    "            cast(round(ZDETECTEDFACE.ZLEFTEYEY * ZDETECTEDFACE.ZSOURCEHEIGHT,0) as integer) LEFTEYE_pixy,\n",
    "            cast(round(ZDETECTEDFACE.ZRIGHTEYEX * ZDETECTEDFACE.ZSOURCEWIDTH,0) as integer) RIGHTEYE_pixx,\n",
    "            cast(round(ZDETECTEDFACE.ZRIGHTEYEY * ZDETECTEDFACE.ZSOURCEHEIGHT,0) as integer) RIGHTEYE_pixy,\n",
    "            cast(round(ZDETECTEDFACE.ZMOUTHX * ZDETECTEDFACE.ZSOURCEWIDTH,0) as integer) MOUTH_pixx,\n",
    "            cast(round(ZDETECTEDFACE.ZMOUTHY * ZDETECTEDFACE.ZSOURCEHEIGHT,0) as integer) MOUTH_pixy,\n",
    "            cast(round(ZDETECTEDFACE.ZCENTERX * ZDETECTEDFACE.ZSOURCEWIDTH,0) as integer) CENTER_pixx,\n",
    "            cast(round(ZDETECTEDFACE.ZCENTERY * ZDETECTEDFACE.ZSOURCEHEIGHT,0) as integer) CENTER_pixy,\n",
    "            ZDETECTEDFACE.ZSIZE as face_size, -- face_size×√(width²+height²) = diameter of circle surrounding face\n",
    "            ZPERSON.ZPERSONURI as person_uri,\n",
    "            ZPERSON.ZPERSONUUID as person_uuid,\n",
    "            ZDETECTEDFACE.ZASSET as asset\n",
    "        from\n",
    "            ZDETECTEDFACE, ZPERSON\n",
    "        where\n",
    "            ZDETECTEDFACE.ZPERSON=ZPERSON.Z_PK and\n",
    "            ZPERSON.ZDISPLAYNAME!=''\n",
    "    ) as people\n",
    "        on people.asset=ZGENERICASSET.Z_PK\n",
    "    \n",
    "    \n",
    "    left outer join (\n",
    "        select\n",
    "            ZASSET as asset,\n",
    "            count(ZCENTERX) as facecount\n",
    "        from ZDETECTEDFACE\n",
    "        group by ZASSET\n",
    "    ) as facecount\n",
    "        on facecount.asset=ZGENERICASSET.Z_PK\n",
    "    \n",
    "    \n",
    "    left outer join (\n",
    "        select\n",
    "            ZASSET as asset,\n",
    "            count(ZCENTERX) as named_facecount\n",
    "        from ZDETECTEDFACE, ZPERSON\n",
    "        where\n",
    "            ZDETECTEDFACE.ZPERSON=ZPERSON.Z_PK and\n",
    "            ZPERSON.ZDISPLAYNAME!=''\n",
    "        group by ZASSET\n",
    "    ) as named_facecount\n",
    "        on named_facecount.asset=ZGENERICASSET.Z_PK\n",
    "    \n",
    "    \n",
    "where\n",
    "    ZGENERICASSET.ZDIRECTORY like 'DCIM%'\n",
    "--  and Person_PK=5\n",
    "\n",
    "order by\n",
    "        taken, Detected_PK\n",
    "```\n",
    "\n",
    "\n",
    "\n",
    "## List of Assets\n",
    "\n",
    "\n",
    "```sql\n",
    "select\n",
    "    ZGENERICASSET.Z_PK as Asset_PK,\n",
    "    ZGENERICASSET.ZDIRECTORY,\n",
    "    ZGENERICASSET.ZFILENAME,\n",
    "    ZGENERICASSET.ZTRASHEDSTATE,\n",
    "    ZGENERICASSET.ZFAVORITE,\n",
    "    ZGENERICASSET.ZWIDTH,\n",
    "    ZGENERICASSET.ZHEIGHT,\n",
    "    ZMOMENT.ZTITLE as Moment_Title,\n",
    "    ZMOMENT.ZSUBTITLE as Moment_Subtitle,\n",
    "    datetime(ZGENERICASSET.ZDATECREATED+strftime('%s','2001-01-01','utc'),'unixepoch') as utc_time,\n",
    "    ZADDITIONALASSETATTRIBUTES.ZTIMEZONEOFFSET,\n",
    "    ZADDITIONALASSETATTRIBUTES.ZEXIFTIMESTAMPSTRING,\n",
    "    facecount.facecount,\n",
    "    named_facecount.named_facecount\n",
    "from\n",
    "    ZGENERICASSET\n",
    "    \n",
    "    left outer join ZADDITIONALASSETATTRIBUTES\n",
    "        on ZADDITIONALASSETATTRIBUTES.ZASSET=ZGENERICASSET.Z_PK\n",
    "        \n",
    "    left outer join ZMOMENT\n",
    "        on ZMOMENT.Z_PK= ZGENERICASSET.ZMOMENT\n",
    "        \n",
    "    left outer join (\n",
    "        select\n",
    "            ZASSET as asset,\n",
    "            count(ZCENTERX) as facecount\n",
    "        from ZDETECTEDFACE\n",
    "        group by ZASSET\n",
    "    ) as facecount\n",
    "        on facecount.asset=ZGENERICASSET.Z_PK\n",
    "    \n",
    "    left outer join (\n",
    "        select\n",
    "            ZASSET as asset,\n",
    "            count(ZCENTERX) as named_facecount\n",
    "        from ZDETECTEDFACE, ZPERSON\n",
    "        where\n",
    "            ZDETECTEDFACE.ZPERSON=ZPERSON.Z_PK and\n",
    "            ZPERSON.ZDISPLAYNAME!=''\n",
    "        group by ZASSET\n",
    "    ) as named_facecount\n",
    "        on named_facecount.asset=ZGENERICASSET.Z_PK\n",
    "    \n",
    "where\n",
    "    ZGENERICASSET.ZDIRECTORY like 'DCIM%'\n",
    "--  and Person_PK=5\n",
    "```\n",
    "\n",
    "\n",
    "\n",
    "## Faces for Asset\n",
    "\n",
    "```sql\n",
    "select\n",
    "    ZGENERICASSET.Z_PK as Asset_PK,\n",
    "    people.Detected_PK,\n",
    "    people.Person_PK,\n",
    "    people.short_name,\n",
    "    people.full_name,\n",
    "    people.adjustment_ver,\n",
    "    people.width,\n",
    "    people.height,\n",
    "    people.LEFTEYE_pixx,\n",
    "    people.LEFTEYE_pixy,\n",
    "    people.RIGHTEYE_pixx,\n",
    "    people.RIGHTEYE_pixy,\n",
    "    people.MOUTH_pixx,\n",
    "    people.MOUTH_pixy,\n",
    "    people.CENTER_pixx,\n",
    "    people.CENTER_pixy,\n",
    "    people.face_size,\n",
    "    people.person_uri,\n",
    "    people.person_uuid\n",
    "from\n",
    "    (\n",
    "        select \n",
    "            ZDETECTEDFACE.Z_PK as Detected_PK,\n",
    "            ZPERSON.Z_PK as Person_PK,\n",
    "            ZPERSON.ZDISPLAYNAME as short_name,\n",
    "            ZPERSON.ZFULLNAME as full_name,\n",
    "            ZDETECTEDFACE.ZADJUSTMENTVERSION as adjustment_ver,\n",
    "            ZDETECTEDFACE.ZSOURCEWIDTH as width,\n",
    "            ZDETECTEDFACE.ZSOURCEHEIGHT as height,\n",
    "            cast(round(ZDETECTEDFACE.ZLEFTEYEX * ZDETECTEDFACE.ZSOURCEWIDTH,0) as integer) LEFTEYE_pixx,\n",
    "            cast(round(ZDETECTEDFACE.ZLEFTEYEY * ZDETECTEDFACE.ZSOURCEHEIGHT,0) as integer) LEFTEYE_pixy,\n",
    "            cast(round(ZDETECTEDFACE.ZRIGHTEYEX * ZDETECTEDFACE.ZSOURCEWIDTH,0) as integer) RIGHTEYE_pixx,\n",
    "            cast(round(ZDETECTEDFACE.ZRIGHTEYEY * ZDETECTEDFACE.ZSOURCEHEIGHT,0) as integer) RIGHTEYE_pixy,\n",
    "            cast(round(ZDETECTEDFACE.ZMOUTHX * ZDETECTEDFACE.ZSOURCEWIDTH,0) as integer) MOUTH_pixx,\n",
    "            cast(round(ZDETECTEDFACE.ZMOUTHY * ZDETECTEDFACE.ZSOURCEHEIGHT,0) as integer) MOUTH_pixy,\n",
    "            cast(round(ZDETECTEDFACE.ZCENTERX * ZDETECTEDFACE.ZSOURCEWIDTH,0) as integer) CENTER_pixx,\n",
    "            cast(round(ZDETECTEDFACE.ZCENTERY * ZDETECTEDFACE.ZSOURCEHEIGHT,0) as integer) CENTER_pixy,\n",
    "            ZDETECTEDFACE.ZSIZE as face_size, -- face_size×√(width²+height²) = diameter of circle surrounding face\n",
    "            ZPERSON.ZPERSONURI as person_uri,\n",
    "            ZPERSON.ZPERSONUUID as person_uuid,\n",
    "            ZDETECTEDFACE.ZASSET as asset\n",
    "        from\n",
    "            ZDETECTEDFACE, ZPERSON\n",
    "        where\n",
    "            ZDETECTEDFACE.ZPERSON=ZPERSON.Z_PK and\n",
    "            ZPERSON.ZDISPLAYNAME!=''\n",
    "    ) as people\n",
    "    \n",
    "    left outer join ZGENERICASSET\n",
    "        on ZGENERICASSET.Z_PK=people.asset\n",
    "    \n",
    "where\n",
    "    ZGENERICASSET.ZDIRECTORY like 'DCIM%'\n",
    "--  and Person_PK=5\n",
    "\n",
    "order by\n",
    "        Asset_PK desc\n",
    "```\n",
    "\n",
    "\n"
   ]
  },
  {
   "cell_type": "code",
   "execution_count": null,
   "metadata": {},
   "outputs": [],
   "source": [
    "x=[1,3,2]\n",
    "sorted(x)"
   ]
  },
  {
   "cell_type": "code",
   "execution_count": null,
   "metadata": {},
   "outputs": [],
   "source": []
  }
 ],
 "metadata": {
  "kernelspec": {
   "display_name": "Python 3",
   "language": "python",
   "name": "python3"
  },
  "language_info": {
   "codemirror_mode": {
    "name": "ipython",
    "version": 3
   },
   "file_extension": ".py",
   "mimetype": "text/x-python",
   "name": "python",
   "nbconvert_exporter": "python",
   "pygments_lexer": "ipython3",
   "version": "3.9.0"
  }
 },
 "nbformat": 4,
 "nbformat_minor": 4
}
